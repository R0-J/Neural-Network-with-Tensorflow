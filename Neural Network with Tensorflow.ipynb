{
 "cells": [
  {
   "cell_type": "code",
   "execution_count": 1,
   "id": "d76327b0-24f5-4313-825a-48a8e9acb20d",
   "metadata": {},
   "outputs": [],
   "source": [
    "import pandas as pd\n",
    "import numpy as np"
   ]
  },
  {
   "cell_type": "code",
   "execution_count": 2,
   "id": "da3b32ba-6e3f-4c65-8dbc-94997bf4e8fc",
   "metadata": {},
   "outputs": [
    {
     "data": {
      "text/html": [
       "<div>\n",
       "<style scoped>\n",
       "    .dataframe tbody tr th:only-of-type {\n",
       "        vertical-align: middle;\n",
       "    }\n",
       "\n",
       "    .dataframe tbody tr th {\n",
       "        vertical-align: top;\n",
       "    }\n",
       "\n",
       "    .dataframe thead th {\n",
       "        text-align: right;\n",
       "    }\n",
       "</style>\n",
       "<table border=\"1\" class=\"dataframe\">\n",
       "  <thead>\n",
       "    <tr style=\"text-align: right;\">\n",
       "      <th></th>\n",
       "      <th>crim</th>\n",
       "      <th>zn</th>\n",
       "      <th>indus</th>\n",
       "      <th>chas</th>\n",
       "      <th>nox</th>\n",
       "      <th>rm</th>\n",
       "      <th>age</th>\n",
       "      <th>dis</th>\n",
       "      <th>rad</th>\n",
       "      <th>tax</th>\n",
       "      <th>ptratio</th>\n",
       "      <th>b</th>\n",
       "      <th>lstat</th>\n",
       "      <th>medv</th>\n",
       "    </tr>\n",
       "  </thead>\n",
       "  <tbody>\n",
       "    <tr>\n",
       "      <th>0</th>\n",
       "      <td>0.00632</td>\n",
       "      <td>18.0</td>\n",
       "      <td>2.31</td>\n",
       "      <td>0</td>\n",
       "      <td>0.538</td>\n",
       "      <td>6.575</td>\n",
       "      <td>65.2</td>\n",
       "      <td>4.0900</td>\n",
       "      <td>1</td>\n",
       "      <td>296</td>\n",
       "      <td>15.3</td>\n",
       "      <td>396.90</td>\n",
       "      <td>4.98</td>\n",
       "      <td>24.0</td>\n",
       "    </tr>\n",
       "    <tr>\n",
       "      <th>1</th>\n",
       "      <td>0.02731</td>\n",
       "      <td>0.0</td>\n",
       "      <td>7.07</td>\n",
       "      <td>0</td>\n",
       "      <td>0.469</td>\n",
       "      <td>6.421</td>\n",
       "      <td>78.9</td>\n",
       "      <td>4.9671</td>\n",
       "      <td>2</td>\n",
       "      <td>242</td>\n",
       "      <td>17.8</td>\n",
       "      <td>396.90</td>\n",
       "      <td>9.14</td>\n",
       "      <td>21.6</td>\n",
       "    </tr>\n",
       "    <tr>\n",
       "      <th>2</th>\n",
       "      <td>0.02729</td>\n",
       "      <td>0.0</td>\n",
       "      <td>7.07</td>\n",
       "      <td>0</td>\n",
       "      <td>0.469</td>\n",
       "      <td>7.185</td>\n",
       "      <td>61.1</td>\n",
       "      <td>4.9671</td>\n",
       "      <td>2</td>\n",
       "      <td>242</td>\n",
       "      <td>17.8</td>\n",
       "      <td>392.83</td>\n",
       "      <td>4.03</td>\n",
       "      <td>34.7</td>\n",
       "    </tr>\n",
       "    <tr>\n",
       "      <th>3</th>\n",
       "      <td>0.03237</td>\n",
       "      <td>0.0</td>\n",
       "      <td>2.18</td>\n",
       "      <td>0</td>\n",
       "      <td>0.458</td>\n",
       "      <td>6.998</td>\n",
       "      <td>45.8</td>\n",
       "      <td>6.0622</td>\n",
       "      <td>3</td>\n",
       "      <td>222</td>\n",
       "      <td>18.7</td>\n",
       "      <td>394.63</td>\n",
       "      <td>2.94</td>\n",
       "      <td>33.4</td>\n",
       "    </tr>\n",
       "    <tr>\n",
       "      <th>4</th>\n",
       "      <td>0.06905</td>\n",
       "      <td>0.0</td>\n",
       "      <td>2.18</td>\n",
       "      <td>0</td>\n",
       "      <td>0.458</td>\n",
       "      <td>7.147</td>\n",
       "      <td>54.2</td>\n",
       "      <td>6.0622</td>\n",
       "      <td>3</td>\n",
       "      <td>222</td>\n",
       "      <td>18.7</td>\n",
       "      <td>396.90</td>\n",
       "      <td>5.33</td>\n",
       "      <td>36.2</td>\n",
       "    </tr>\n",
       "  </tbody>\n",
       "</table>\n",
       "</div>"
      ],
      "text/plain": [
       "      crim    zn  indus  chas    nox     rm   age     dis  rad  tax  ptratio  \\\n",
       "0  0.00632  18.0   2.31     0  0.538  6.575  65.2  4.0900    1  296     15.3   \n",
       "1  0.02731   0.0   7.07     0  0.469  6.421  78.9  4.9671    2  242     17.8   \n",
       "2  0.02729   0.0   7.07     0  0.469  7.185  61.1  4.9671    2  242     17.8   \n",
       "3  0.03237   0.0   2.18     0  0.458  6.998  45.8  6.0622    3  222     18.7   \n",
       "4  0.06905   0.0   2.18     0  0.458  7.147  54.2  6.0622    3  222     18.7   \n",
       "\n",
       "        b  lstat  medv  \n",
       "0  396.90   4.98  24.0  \n",
       "1  396.90   9.14  21.6  \n",
       "2  392.83   4.03  34.7  \n",
       "3  394.63   2.94  33.4  \n",
       "4  396.90   5.33  36.2  "
      ]
     },
     "execution_count": 2,
     "metadata": {},
     "output_type": "execute_result"
    }
   ],
   "source": [
    "df = pd.read_csv('BostonHousing.csv')\n",
    "df.head()"
   ]
  },
  {
   "cell_type": "code",
   "execution_count": 3,
   "id": "d1ad571a-45f2-4ad8-a8ed-5387187945f8",
   "metadata": {},
   "outputs": [],
   "source": [
    "from sklearn.model_selection import train_test_split\n",
    "from sklearn.preprocessing import StandardScaler\n",
    "import warnings\n",
    "warnings.filterwarnings('ignore')"
   ]
  },
  {
   "cell_type": "code",
   "execution_count": 4,
   "id": "497c0db5-a6ad-472b-9182-7aaab86e5da3",
   "metadata": {},
   "outputs": [
    {
     "name": "stdout",
     "output_type": "stream",
     "text": [
      "X_train shape (354, 13)\n",
      "y_train shape (354,)\n",
      "X_test shape (152, 13)\n",
      "y_test shape (152,)\n"
     ]
    }
   ],
   "source": [
    "X = df.drop(['medv'],axis=1)\n",
    "y = df['medv']\n",
    "scl = StandardScaler()\n",
    "columns = X.columns\n",
    "X = scl.fit_transform(X)\n",
    "X = pd.DataFrame(X, columns=columns)\n",
    "X_train, X_test, y_train, y_test = train_test_split(X,y, test_size=0.30)\n",
    "print('X_train shape',X_train.shape)\n",
    "print('y_train shape',y_train.shape)\n",
    "print('X_test shape',X_test.shape)\n",
    "print('y_test shape',y_test.shape)"
   ]
  },
  {
   "cell_type": "code",
   "execution_count": 5,
   "id": "6b6da49d-7d71-4036-906c-5bd4db67984f",
   "metadata": {},
   "outputs": [
    {
     "data": {
      "text/plain": [
       "'2.10.0'"
      ]
     },
     "execution_count": 5,
     "metadata": {},
     "output_type": "execute_result"
    }
   ],
   "source": [
    "import tensorflow as tf\n",
    "tf.__version__"
   ]
  },
  {
   "cell_type": "code",
   "execution_count": 12,
   "id": "7a66fb3a-358f-4b42-b93b-3684911bd28e",
   "metadata": {},
   "outputs": [
    {
     "name": "stdout",
     "output_type": "stream",
     "text": [
      "Model: \"sequential\"\n",
      "_________________________________________________________________\n",
      " Layer (type)                Output Shape              Param #   \n",
      "=================================================================\n",
      " dense (Dense)               (None, 32)                448       \n",
      "                                                                 \n",
      " dense_1 (Dense)             (None, 1)                 33        \n",
      "                                                                 \n",
      "=================================================================\n",
      "Total params: 481\n",
      "Trainable params: 481\n",
      "Non-trainable params: 0\n",
      "_________________________________________________________________\n"
     ]
    }
   ],
   "source": [
    "from tensorflow.keras import layers\n",
    "from tensorflow.keras.models import Sequential\n",
    "\n",
    "model = Sequential()\n",
    "# 32 is neuron\n",
    "model.add(layers.Dense(32, activation='sigmoid',input_shape=(X_train.shape[1],))) # Dense refer to linear\n",
    "model.add(layers.Dense(1, activation='linear')) # Dense refer to linear\n",
    "model.summary()"
   ]
  },
  {
   "cell_type": "code",
   "execution_count": 13,
   "id": "a68b4e21-48a7-4fb3-9b6d-6426c0bb0083",
   "metadata": {},
   "outputs": [
    {
     "name": "stdout",
     "output_type": "stream",
     "text": [
      "Epoch 1/20\n",
      "12/12 [==============================] - 7s 223ms/step - loss: 203.0624 - val_loss: 45.8721\n",
      "Epoch 2/20\n",
      "12/12 [==============================] - 0s 21ms/step - loss: 36.1785 - val_loss: 36.6379\n",
      "Epoch 3/20\n",
      "12/12 [==============================] - 0s 21ms/step - loss: 29.5539 - val_loss: 34.4208\n",
      "Epoch 4/20\n",
      "12/12 [==============================] - 0s 18ms/step - loss: 27.3043 - val_loss: 30.7950\n",
      "Epoch 5/20\n",
      "12/12 [==============================] - 0s 18ms/step - loss: 25.1375 - val_loss: 29.6227\n",
      "Epoch 6/20\n",
      "12/12 [==============================] - 0s 18ms/step - loss: 24.2732 - val_loss: 29.0955\n",
      "Epoch 7/20\n",
      "12/12 [==============================] - 0s 26ms/step - loss: 23.6733 - val_loss: 28.7723\n",
      "Epoch 8/20\n",
      "12/12 [==============================] - 0s 25ms/step - loss: 23.0882 - val_loss: 27.9948\n",
      "Epoch 9/20\n",
      "12/12 [==============================] - 0s 21ms/step - loss: 22.7707 - val_loss: 27.7030\n",
      "Epoch 10/20\n",
      "12/12 [==============================] - 0s 20ms/step - loss: 22.3166 - val_loss: 28.2458\n",
      "Epoch 11/20\n",
      "12/12 [==============================] - 0s 20ms/step - loss: 22.0604 - val_loss: 26.5973\n",
      "Epoch 12/20\n",
      "12/12 [==============================] - 0s 20ms/step - loss: 21.7466 - val_loss: 29.8282\n",
      "Epoch 13/20\n",
      "12/12 [==============================] - 0s 28ms/step - loss: 21.5573 - val_loss: 25.8471\n",
      "Epoch 14/20\n",
      "12/12 [==============================] - 0s 21ms/step - loss: 20.7502 - val_loss: 29.1566\n",
      "Epoch 15/20\n",
      "12/12 [==============================] - 0s 21ms/step - loss: 21.1347 - val_loss: 37.3333\n",
      "Epoch 16/20\n",
      "12/12 [==============================] - 0s 20ms/step - loss: 22.9496 - val_loss: 27.1076\n",
      "Epoch 17/20\n",
      "12/12 [==============================] - 0s 18ms/step - loss: 20.3413 - val_loss: 25.6327\n",
      "Epoch 18/20\n",
      "12/12 [==============================] - 0s 19ms/step - loss: 19.9451 - val_loss: 26.0978\n",
      "Epoch 19/20\n",
      "12/12 [==============================] - 0s 17ms/step - loss: 19.8400 - val_loss: 24.7064\n",
      "Epoch 20/20\n",
      "12/12 [==============================] - 0s 16ms/step - loss: 19.3881 - val_loss: 25.6751\n"
     ]
    },
    {
     "data": {
      "text/plain": [
       "<keras.callbacks.History at 0x14d1c343e80>"
      ]
     },
     "execution_count": 13,
     "metadata": {},
     "output_type": "execute_result"
    }
   ],
   "source": [
    "model.compile(optimizer='sgd',loss='mean_squared_error')\n",
    "model.fit(X_train, y_train, validation_data=(X_test,y_test), epochs=20)"
   ]
  },
  {
   "cell_type": "code",
   "execution_count": 20,
   "id": "4ee833b7-213c-4d67-814a-58df5f16f8d5",
   "metadata": {},
   "outputs": [
    {
     "name": "stdout",
     "output_type": "stream",
     "text": [
      "5/5 [==============================] - 0s 6ms/step\n"
     ]
    },
    {
     "data": {
      "text/html": [
       "<div>\n",
       "<style scoped>\n",
       "    .dataframe tbody tr th:only-of-type {\n",
       "        vertical-align: middle;\n",
       "    }\n",
       "\n",
       "    .dataframe tbody tr th {\n",
       "        vertical-align: top;\n",
       "    }\n",
       "\n",
       "    .dataframe thead th {\n",
       "        text-align: right;\n",
       "    }\n",
       "</style>\n",
       "<table border=\"1\" class=\"dataframe\">\n",
       "  <thead>\n",
       "    <tr style=\"text-align: right;\">\n",
       "      <th></th>\n",
       "      <th>Actual</th>\n",
       "      <th>Predict</th>\n",
       "    </tr>\n",
       "  </thead>\n",
       "  <tbody>\n",
       "    <tr>\n",
       "      <th>0</th>\n",
       "      <td>17.8</td>\n",
       "      <td>20.464926</td>\n",
       "    </tr>\n",
       "    <tr>\n",
       "      <th>1</th>\n",
       "      <td>46.0</td>\n",
       "      <td>39.909607</td>\n",
       "    </tr>\n",
       "    <tr>\n",
       "      <th>2</th>\n",
       "      <td>22.0</td>\n",
       "      <td>21.673937</td>\n",
       "    </tr>\n",
       "    <tr>\n",
       "      <th>3</th>\n",
       "      <td>50.0</td>\n",
       "      <td>39.051086</td>\n",
       "    </tr>\n",
       "    <tr>\n",
       "      <th>4</th>\n",
       "      <td>11.7</td>\n",
       "      <td>13.018038</td>\n",
       "    </tr>\n",
       "    <tr>\n",
       "      <th>...</th>\n",
       "      <td>...</td>\n",
       "      <td>...</td>\n",
       "    </tr>\n",
       "    <tr>\n",
       "      <th>147</th>\n",
       "      <td>13.4</td>\n",
       "      <td>10.434437</td>\n",
       "    </tr>\n",
       "    <tr>\n",
       "      <th>148</th>\n",
       "      <td>23.9</td>\n",
       "      <td>27.438066</td>\n",
       "    </tr>\n",
       "    <tr>\n",
       "      <th>149</th>\n",
       "      <td>19.3</td>\n",
       "      <td>18.760799</td>\n",
       "    </tr>\n",
       "    <tr>\n",
       "      <th>150</th>\n",
       "      <td>8.3</td>\n",
       "      <td>9.735996</td>\n",
       "    </tr>\n",
       "    <tr>\n",
       "      <th>151</th>\n",
       "      <td>36.1</td>\n",
       "      <td>33.876976</td>\n",
       "    </tr>\n",
       "  </tbody>\n",
       "</table>\n",
       "<p>152 rows × 2 columns</p>\n",
       "</div>"
      ],
      "text/plain": [
       "     Actual    Predict\n",
       "0      17.8  20.464926\n",
       "1      46.0  39.909607\n",
       "2      22.0  21.673937\n",
       "3      50.0  39.051086\n",
       "4      11.7  13.018038\n",
       "..      ...        ...\n",
       "147    13.4  10.434437\n",
       "148    23.9  27.438066\n",
       "149    19.3  18.760799\n",
       "150     8.3   9.735996\n",
       "151    36.1  33.876976\n",
       "\n",
       "[152 rows x 2 columns]"
      ]
     },
     "execution_count": 20,
     "metadata": {},
     "output_type": "execute_result"
    }
   ],
   "source": [
    "preds = model.predict(X_test).reshape(-1,)\n",
    "res = pd.DataFrame()\n",
    "res['Actual']= y_test.values\n",
    "res['Predict']= preds\n",
    "res"
   ]
  }
 ],
 "metadata": {
  "kernelspec": {
   "display_name": "Python 3 (ipykernel)",
   "language": "python",
   "name": "python3"
  },
  "language_info": {
   "codemirror_mode": {
    "name": "ipython",
    "version": 3
   },
   "file_extension": ".py",
   "mimetype": "text/x-python",
   "name": "python",
   "nbconvert_exporter": "python",
   "pygments_lexer": "ipython3",
   "version": "3.10.13"
  }
 },
 "nbformat": 4,
 "nbformat_minor": 5
}
